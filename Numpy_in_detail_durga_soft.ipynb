{
 "cells": [
  {
   "cell_type": "markdown",
   "id": "85e870e4",
   "metadata": {},
   "source": [
    "### Need of NumPy(Open source library)"
   ]
  },
  {
   "cell_type": "markdown",
   "id": "cc407ffa",
   "metadata": {},
   "source": [
    "By using Python, we can perform basic maths operations.\n",
    "a,b=10,20\n",
    "math.sqrt(4) like this\n",
    "------but when we talk about DS(data science),ML,DL there we need stats operations,linear algebra,matrices,complex mathematical operations etc for those operation python doesn't have any such inbuilt library so we need third party lib NumPy----\n",
    "1. creations of arrays/matrices\n",
    "2. perform several operations on  arrays/matrices\n",
    "3. perform integral calculas operations\n",
    "4. solving differential equations\n",
    "5. stats related operations\n",
    "just because of extra libraries like numpy,pandas,sklearn,matplotlib, python is preferred language for data science.\n"
   ]
  },
  {
   "cell_type": "markdown",
   "id": "30995ba6",
   "metadata": {},
   "source": [
    "# Array creation"
   ]
  },
  {
   "cell_type": "markdown",
   "id": "5d9e6ea6",
   "metadata": {},
   "source": [
    "There are 6 general mechanisms for creating arrays:\n",
    "\n",
    "1. Conversion from other Python structures (i.e. lists and tuples)\n",
    "\n",
    "2. Intrinsic NumPy array creation functions (e.g. arange, ones, zeros, etc.)\n",
    "\n",
    "3. Replicating, joining, or mutating existing arrays\n",
    "\n",
    "4. Reading arrays from disk, either from standard or custom formats\n",
    "\n",
    "5. Creating arrays from raw bytes through the use of strings or buffers\n",
    "\n",
    "6. Use of special library functions (e.g., random)\n",
    "\n",
    "\n",
    "------------------------1.using python structures------------------\n",
    "\n",
    "Arrays\n",
    "NumPy arrays can be defined using Python sequences such as lists and tuples. Lists and tuples are defined using [...] and (...), respectively. Lists and tuples can define ndarray creation:\n",
    "\n",
    "a list of numbers will create a 1D array,\n",
    "\n",
    "a list of lists will create a 2D array,\n",
    "\n",
    "further nested lists will create higher-dimensional arrays. In general, any array object is called an ndarray in NumPy.\n",
    "\n",
    "a1D = np.array([1, 2, 3, 4])\n",
    "a2D = np.array([[1, 2], [3, 4]])\n",
    "a3D = np.array([[[1, 2], [3, 4]], [[5, 6], [7, 8]]])\n",
    "\n",
    "\n",
    "\n",
    "1D arrays\n",
    "\n",
    "methods: 1. np.arange(start,stop,step) # stop is excluded 2. np.linspace(start,stop,step)  # stop is included\n",
    "\n",
    "2D arrays\n",
    "\n",
    "The 2D array creation functions e.g. numpy.eye, numpy.diag, and numpy.vander define properties of special matrices represented as 2D arrays.\n",
    "\n",
    "np.eye(n, m) defines a 2D identity matrix. The elements where i=j (row index and column index are equal) are 1 and the rest are 0, as such:\n",
    "np.eye(3, 5)\n",
    "\n",
    "numpy.diag can define either a square 2D array with given values along the diagonal or if given a 2D array returns a 1D array that is only the diagonal elements\n",
    "np.diag([1, 2, 3])\n",
    "\n",
    "\n",
    "methods: \n",
    "\n",
    "ndarrays\n",
    "\n",
    "numpy.zeros will create an array filled with 0 values with the specified shape. The default dtype is float64:\n",
    "\n",
    "np.zeros((2, 3))\n",
    "array([[0., 0., 0.],\n",
    "       [0., 0., 0.]])\n",
    "np.zeros((2, 3, 2))\n",
    "array([[[0., 0.],\n",
    "        [0., 0.],\n",
    "        [0., 0.]],\n",
    "\n",
    "       [[0., 0.],\n",
    "        [0., 0.],\n",
    "        [0., 0.]]])\n",
    "        \n",
    "numpy.ones will create an array filled with 1 values. It is identical to zeros in all other respects as such:\n",
    "\n",
    "\n",
    "The random method of the result of default_rng will create an array filled with random values between 0 and 1. It is included with the numpy.random library. Below, two arrays are created with shapes (2,3) and (2,3,2), respectively. The seed is set to 42 so you can reproduce these pseudorandom numbers:\n",
    "\n",
    "\n",
    "numpy.indices will create a set of arrays (stacked as a one-higher dimensioned array), one per dimension with each representing variation in that dimension:\n",
    "\n",
    "np.indices((3,3))\n",
    "array([[[0, 0, 0],\n",
    "        [1, 1, 1],\n",
    "        [2, 2, 2]],\n",
    "       [[0, 1, 2],\n",
    "        [0, 1, 2],\n",
    "        [0, 1, 2]]])\n",
    "        \n",
    "vander(x, n) defines a Vandermonde matrix as a 2D NumPy array. Each column of the Vandermonde matrix is a decreasing power of the input 1D array or list or tuple, x where the highest polynomial order is n-1. This array creation routine is helpful in generating linear least squares models, as such:\n",
    "\n",
    "np.vander(np.linspace(0, 2, 5), 2)\n",
    "array([[0. , 1. ],\n",
    "      [0.5, 1. ],\n",
    "      [1. , 1. ],\n",
    "      [1.5, 1. ],\n",
    "      [2. , 1. ]])\n",
    "np.vander([1, 2, 3, 4], 2)\n",
    "array([[1, 1],\n",
    "       [2, 1],\n",
    "       [3, 1],\n",
    "       [4, 1]])\n",
    "np.vander((1, 2, 3, 4), 4)\n",
    "array([[ 1,  1,  1,  1],\n",
    "       [ 8,  4,  2,  1],\n",
    "       [27,  9,  3,  1],\n",
    "       [64, 16,  4,  1]])\n",
    "        \n",
    "        \n",
    "        \n",
    "        \n",
    "A = np.ones((2, 2))\n",
    "B = np.eye(2, 2)\n",
    "C = np.zeros((2, 2))\n",
    "D = np.diag((-3, -4))\n",
    "print(A,\"\\n\",B,'\\n',C,'\\n',D)\n",
    "        \n",
    "        \n",
    "3) Replicating, joining, or mutating existing arrays\n",
    "Once you have created arrays, you can replicate, join, or mutate those existing arrays to create new arrays. When you assign an array or its elements to a new variable, you have to explicitly numpy.copy the array, otherwise the variable is a view into the original array. Consider the following example:\n",
    "a = np.array([1, 2, 3, 4, 5, 6])\n",
    "b = a[:2]\n",
    "b += 1\n",
    "print('a =', a, '; b =', b)\n",
    "a = [2 3 3 4 5 6] ; b = [2 3]"
   ]
  },
  {
   "cell_type": "code",
   "execution_count": 106,
   "id": "4f2e3a8e",
   "metadata": {},
   "outputs": [
    {
     "data": {
      "text/plain": [
       "array([[ 1000,   100,    10,     1],\n",
       "       [ 8000,   400,    20,     1],\n",
       "       [27000,   900,    30,     1]])"
      ]
     },
     "execution_count": 106,
     "metadata": {},
     "output_type": "execute_result"
    }
   ],
   "source": [
    "np.vander([10,20,30],4)\n"
   ]
  },
  {
   "cell_type": "code",
   "execution_count": 92,
   "id": "257949bb",
   "metadata": {},
   "outputs": [
    {
     "name": "stdout",
     "output_type": "stream",
     "text": [
      "unsigned c: [4294967293 4294967293 4294967293] uint32\n",
      "signed c: [-3 -3 -3] int64\n"
     ]
    }
   ],
   "source": [
    "a = np.array([2, 3, 4], dtype=np.uint32)\n",
    "b = np.array([5, 6, 7], dtype=np.uint32)\n",
    "c_unsigned32 = a - b\n",
    "print('unsigned c:', c_unsigned32, c_unsigned32.dtype)\n",
    "\n",
    "c_signed32 = a - b.astype(np.int32)\n",
    "print('signed c:', c_signed32, c_signed32.dtype)\n"
   ]
  },
  {
   "cell_type": "markdown",
   "id": "5655748a",
   "metadata": {},
   "source": [
    "### history of NumPy"
   ]
  },
  {
   "cell_type": "markdown",
   "id": "2fedd2b3",
   "metadata": {},
   "source": [
    "NumPy: stands for numerical library\n",
    "it is fundamental python library to perform complex numerical operations.\n",
    "it is developed on top of numeric library in 2005.\n",
    "numeric library developed by Gim Hugunin.\n",
    "NumPy is developed by Travis Oliphant and multiple contributors.\n"
   ]
  },
  {
   "cell_type": "markdown",
   "id": "4019f5e9",
   "metadata": {},
   "source": [
    "### language of NumPy"
   ]
  },
  {
   "cell_type": "markdown",
   "id": "d5d686b0",
   "metadata": {},
   "source": [
    "It is wriiten in Python and C language( that's why performance wise it is very good(speed is high).\n",
    "Because of high speed, NumPy is the best choice for ML algorithm than traditional python's in built data structures like LIST."
   ]
  },
  {
   "cell_type": "markdown",
   "id": "a33db48e",
   "metadata": {},
   "source": [
    "### features of Numpy"
   ]
  },
  {
   "cell_type": "markdown",
   "id": "77829f98",
   "metadata": {},
   "source": [
    "NumPy is superfast because it is developed in C language.\n",
    "NumPy is backbone for data science libraries like Pandas,sk-learn etc.\n",
    "Pandas internally use 'nd array' to store data,which is NumPy data structure.\n",
    "scikit-learn also user internally 'nd array'.\n",
    "Numpy has vectorization feature is there  which improve performance while iterating elements.\n"
   ]
  },
  {
   "cell_type": "markdown",
   "id": "aab2cb8c",
   "metadata": {},
   "source": [
    "### nd array in Numpy"
   ]
  },
  {
   "cell_type": "markdown",
   "id": "702c7199",
   "metadata": {},
   "source": [
    "1 In NumPy we can hold data using array data structure .\n",
    "2 The arrays created using NumPy, called nd arrays.\n",
    "3 nd array --> N -dimentional array --> or NumPy array\n",
    "4 This nd array is most commonly used in data science libraries like pandas,sk-learn etc.\n",
    "5 Array: An indexed collection of homogeneous elements.\n",
    "6 NumPy contains several functions to create nd arrays to perform several operations.\n"
   ]
  },
  {
   "cell_type": "markdown",
   "id": "a9dc9d0a",
   "metadata": {},
   "source": [
    "### NumPy's array VS List"
   ]
  },
  {
   "cell_type": "markdown",
   "id": "d078b620",
   "metadata": {},
   "source": [
    "Performance is very High of nd array over list.\n",
    "but\n",
    "nd array can only hold homogeneous elements but list can caontain heterogeneous elements also."
   ]
  },
  {
   "cell_type": "markdown",
   "id": "4d154142",
   "metadata": {},
   "source": [
    "### Application area of NumPy"
   ]
  },
  {
   "cell_type": "markdown",
   "id": "b0d97c74",
   "metadata": {},
   "source": [
    "1. To perform linear algebra functions\n",
    "2. To perform linear regression\n",
    "3. To perform logistic regression\n",
    "4. Deep neural networks\n",
    "5. control systems\n",
    "6. operational reseach\n",
    "7. etc\n",
    "\n",
    "Numpy is fundamental and mandatory library for data science, ML,DL."
   ]
  },
  {
   "cell_type": "markdown",
   "id": "46002dbf",
   "metadata": {},
   "source": [
    "### How to install NumPy"
   ]
  },
  {
   "cell_type": "markdown",
   "id": "12ba9dcf",
   "metadata": {},
   "source": [
    "1. By using Anaconda distribution (Anaconda is python flavour for data science, ML etc.)\n",
    "   Anaconda distribution has inbuilt numpy library and hence we are not required to install it\n",
    "    \n",
    "2. If python is already installed in our system, then we can install NumPy as follows:\n",
    "    pip install numpy"
   ]
  },
  {
   "cell_type": "code",
   "execution_count": 1,
   "id": "75f94742",
   "metadata": {},
   "outputs": [],
   "source": [
    "import numpy as np\n",
    "c=np.array([20,40,30])\n",
    "d=np.array([2,4,3])"
   ]
  },
  {
   "cell_type": "code",
   "execution_count": 2,
   "id": "e0e5145e",
   "metadata": {},
   "outputs": [],
   "source": [
    "from datetime import datetime"
   ]
  },
  {
   "cell_type": "code",
   "execution_count": 3,
   "id": "a3e6b245",
   "metadata": {},
   "outputs": [],
   "source": [
    "\n",
    "def dot_product(a,b):\n",
    "    result=0\n",
    "    for m,n in zip(a,b):\n",
    "        result+=m*n\n",
    "    \n",
    "    \n",
    "a=[20,40,30]\n",
    "b=[2,4,3]\n",
    "\n"
   ]
  },
  {
   "cell_type": "code",
   "execution_count": 4,
   "id": "c81da598",
   "metadata": {},
   "outputs": [
    {
     "name": "stdout",
     "output_type": "stream",
     "text": [
      "time taken 0:00:00.018941\n"
     ]
    }
   ],
   "source": [
    "before=datetime.now()\n",
    "for i in range(10000):\n",
    "    np.dot(c,d)\n",
    "after=datetime.now()\n",
    "print(\"time taken\",after-before)"
   ]
  },
  {
   "cell_type": "markdown",
   "id": "b85f19ff",
   "metadata": {},
   "source": [
    "### What is an Array"
   ]
  },
  {
   "cell_type": "markdown",
   "id": "7f9ffc07",
   "metadata": {},
   "source": [
    "It is indexed collection of homogeneous elements.\n",
    "It is the most commonly used concept in programming languages like C,C++,Java etc\n",
    "by default we do not have arrays concept in python, instead we can use lists.\n",
    "(but both list and array are not same)\n",
    "but in python, we can create arrays in the following 2 ways.\n",
    "1. By using array module.\n",
    "2. By using NumPy module. (alway go with this because a lot library support)\n",
    "\n"
   ]
  },
  {
   "cell_type": "code",
   "execution_count": 5,
   "id": "1b3fd688",
   "metadata": {},
   "outputs": [],
   "source": [
    "import array \n",
    "a=array.array(\"i\",[10,20,30])          # array means integer...2 times array because 1 is module name,second is function name"
   ]
  },
  {
   "cell_type": "code",
   "execution_count": 6,
   "id": "5db1cb2f",
   "metadata": {},
   "outputs": [
    {
     "name": "stdout",
     "output_type": "stream",
     "text": [
      "array('i', [10, 20, 30])\n"
     ]
    }
   ],
   "source": [
    "print(a)"
   ]
  },
  {
   "cell_type": "markdown",
   "id": "7efe1e3b",
   "metadata": {},
   "source": [
    "### Differences between lists and arrays"
   ]
  },
  {
   "cell_type": "markdown",
   "id": "a7618380",
   "metadata": {},
   "source": [
    "1. list is inbuild data type but numpy array is not inbuilt. to use numpy arrays we need to install and import numpy library explicitly\n",
    "2. List can hold heterogeneous elements but numpy array can only hold homogeneous elements.\n",
    "3. on arrays we can performs vector operation(operations we apply on each and every elements) but we can not perform vector operation on lists.\n",
    "4. Arrays consumes less memory when compare with lists.\n",
    "5. arrays are superfast compare to list.\n",
    "6. numpy arrays are more convenient while performing mathematical operations."
   ]
  },
  {
   "cell_type": "code",
   "execution_count": 7,
   "id": "c69477e6",
   "metadata": {},
   "outputs": [
    {
     "name": "stdout",
     "output_type": "stream",
     "text": [
      "[ 5. 10. 15. 20. 25. 30.]\n",
      "size of array 136\n",
      "size of list 152\n"
     ]
    }
   ],
   "source": [
    "a=np.array([10,20,30,40,50,60])        # 3rd point\n",
    "l=[20,30,40,50,60,60]\n",
    "print(a/2)\n",
    "\n",
    "import sys                    # 4th point\n",
    "print(\"size of array\",sys.getsizeof(a))\n",
    "print(\"size of list\",sys.getsizeof(l))"
   ]
  },
  {
   "cell_type": "markdown",
   "id": "3b0f43bf",
   "metadata": {},
   "source": [
    "### Ways to create NumPy arrays"
   ]
  },
  {
   "cell_type": "markdown",
   "id": "e7bb74dc",
   "metadata": {},
   "source": [
    "Numpy library contains several functions to create nd array based on our requirements.\n",
    "1. array()\n",
    "2. arange()\n",
    "3. zeros()\n",
    "4. ones()\n",
    "5. linspace()\n",
    "6. eye()\n",
    "7. random()\n",
    "8. full()\n",
    "9. identity()\n",
    "10. empty()\n"
   ]
  },
  {
   "cell_type": "markdown",
   "id": "b7845fb1",
   "metadata": {},
   "source": [
    "### Arrays attributes"
   ]
  },
  {
   "cell_type": "markdown",
   "id": "d1e2f676",
   "metadata": {},
   "source": [
    "1. ndim: to get dimension of the array\n",
    "2. shape: to get shape of the array\n",
    "3. size: to get size of array(number of elements)\n",
    "4. dtype: to get data type of array elements\n",
    "5. itemsize: the size of each element in bytes\n",
    "6. "
   ]
  },
  {
   "cell_type": "code",
   "execution_count": 8,
   "id": "8776ecd4",
   "metadata": {},
   "outputs": [
    {
     "name": "stdout",
     "output_type": "stream",
     "text": [
      "4\n",
      "1\n",
      "3\n",
      "(3,)\n",
      "int32\n"
     ]
    }
   ],
   "source": [
    "a=np.array([10,40,40])\n",
    "print(a.itemsize)\n",
    "print(a.ndim)\n",
    "print(a.size)\n",
    "print(a.shape)\n",
    "print(a.dtype)"
   ]
  },
  {
   "cell_type": "markdown",
   "id": "4d06abde",
   "metadata": {},
   "source": [
    "### NumPy data types"
   ]
  },
  {
   "cell_type": "markdown",
   "id": "5e0437bf",
   "metadata": {},
   "source": [
    "In python we have inbuilt data types like int,float,complex,boolstr, etc\n",
    "But, NumPy has some extra data types in addition to these, we can represent data types by using a single character also.\n",
    "\n",
    "1. i--->integer (int8,int16,int32,int64)--->by default int32\n",
    "2. b--->boolean\n",
    "3. u---> unsigned integer  (uint8,uint16,uint32,uint64)\n",
    "4. f----> float   ---same as integer-->by default float64\n",
    "5. c---> complex\n",
    "6. s--->string\n",
    "7. U---> unicode string\n",
    "8. m----> datetime\n",
    "etc\n",
    "\n",
    "int8--\n",
    "\n",
    "------------it reqyuires less memory than int16 dtype array---\n",
    "value will be reprenseted by using 8 bits.\n",
    "The range of values: -128 to 127\n",
    "\n",
    "int16--\n",
    "\n",
    "------------\n",
    "value will be reprenseted by using 8 bits.\n",
    "The range of values: -32768 to 32767\n",
    "\n",
    "\n",
    "10.   how to create array with dtype\n",
    "a=np.array([10,20,30],dtype='i')\n",
    "print(a,type(a))\n",
    "\n",
    "11. how to convert existing array type: a. by general we can use astype() function\n",
    "  a=np.array([10,20,30],dtype='i')\n",
    "print(a,type(a))\n",
    "b=a.astype('float64')\n",
    "print(b,type(b))\n",
    "\n",
    "b. by using the corresponding data type function also, we can convert the type of array\n",
    "\n",
    "a=np.array([10,20,30],dtype='i')\n",
    "print(a,type(a))\n",
    "b=np.float64(a)\n",
    "print(b,type(b))\n",
    "\n",
    "\n"
   ]
  },
  {
   "cell_type": "code",
   "execution_count": 25,
   "id": "afac3861",
   "metadata": {},
   "outputs": [
    {
     "name": "stdout",
     "output_type": "stream",
     "text": [
      "124\n",
      "136\n",
      "136\n"
     ]
    }
   ],
   "source": [
    "import sys\n",
    "a=np.array([10,20,30])\n",
    "b=np.array([10,20,30],dtype='float')\n",
    "c=np.array([10,20,30],dtype='int64')\n",
    "print(sys.getsizeof(a))\n",
    "print(sys.getsizeof(b))\n",
    "print(sys.getsizeof(c))"
   ]
  },
  {
   "cell_type": "code",
   "execution_count": 26,
   "id": "35ea8366",
   "metadata": {},
   "outputs": [
    {
     "name": "stdout",
     "output_type": "stream",
     "text": [
      "[10 20 30] <class 'numpy.ndarray'>\n",
      "[10. 20. 30.] <class 'numpy.ndarray'>\n"
     ]
    }
   ],
   "source": [
    "a=np.array([10,20,30],dtype='i')\n",
    "print(a,type(a))\n",
    "b=np.float64(a)\n",
    "print(b,type(b))"
   ]
  },
  {
   "cell_type": "markdown",
   "id": "b03655cf",
   "metadata": {},
   "source": [
    "### Array Indexing concept"
   ]
  },
  {
   "cell_type": "markdown",
   "id": "8bb02e9b",
   "metadata": {},
   "source": [
    "we can access one element at a time using index.\n",
    "a[i]--->1 d array,  a[i][j]---> 2-d array where i-->row,j-->column, a[i][j][k]-->3d array where i--which 2d array \n",
    "\n",
    "by Using slice operator, we can access multiple objects but should be in order \n",
    "a[begin:end:step],a[begin:end:step,begin:end:step],a[begin:end:step,begin:end:step,begin:end:step]\n",
    "\n",
    "\n",
    "If we want to access multiple elements which are not in order or if we want to access elements on some conditions then \n",
    "we can not use basic indexing and slicing operators. for this requirement, we should go for advanced indexing. \n",
    "\n",
    "Accessing multiple arbitrary elements:\n",
    "    ---------------------\n",
    "syntax:   a[x]\n",
    "    x--> can be either nd array or sequence like list , which represents required indexes.\n",
    "    \n",
    "Accessing elements of 1D-array:\n",
    "    -----------------\n",
    "    \n",
    "    a=np.array([10,20,30,69,78,60,80,100])\n",
    "#### i want to access 10,69,80 from a, 1 -way is\n",
    "#### create nd array with the required indexes and then by passing that array as argument we can access corresponding elements.\n",
    "index=np.array([0,3,6])\n",
    "a[index]\n",
    "\n",
    "#### 2nd way: create list with required indexes and passing that list as argument we can access corresponding elements.\n",
    "l=[0,3,7]\n",
    "a[l]\n",
    "\n",
    "#### we can not use above method for lists\n",
    "#### we can access same elements multiple times\n",
    "a[(0,2,5,0,2,5,6,6)]\n",
    "\n",
    "#### tuple can not be used\n",
    "\n",
    "Accessing elements of 2D-array:\n",
    "    -----------------\n",
    "    x[[row indexes],[column indexes]]\n",
    "    \n",
    "l=[[1,2,3,4],[3,4,5,8],[9,10,11,20],[12,13,14,30]]\n",
    "m=np.array(l)\n",
    "m[[0,1,2,3],[0,1,2,3]]   #### accessing diagonal elements\n",
    "\n",
    "\n",
    "Accessing elements of 3D-array:\n",
    "    -----------------\n",
    "    syntax: array[[indexes of 2d array],[row index],[column index]]\n",
    "    \n",
    "    l=[[[1,2,3,4],[3,4,5,8],[9,1,20,22],[12,13,14,30]],[[11,22,33,44],[3,34,55,8],[29,5160,6161,620],[12,13,144,30]]]\n",
    "m=np.array(l)\n",
    "m.ndim\n",
    "#### i want 4,5,5160,144\n",
    "m[[0,0,1,1],[1,1,2,3],[1,2,1,2]]"
   ]
  },
  {
   "cell_type": "markdown",
   "id": "662c56aa",
   "metadata": {},
   "source": [
    "## select array with condition"
   ]
  },
  {
   "cell_type": "markdown",
   "id": "0dca1790",
   "metadata": {},
   "source": [
    "we can select array elements based on some condition also.\n",
    "\n",
    "syntax: array[boolean_array]\n",
    "    \n",
    "    it selects all elements where boolean_array is True\n",
    "    \n",
    "    l=[-1,5,-10,6,7,-7,20]\n",
    "a=np.array(l)\n",
    "a\n",
    "#### I want to select elements which are greater than 0.\n",
    "#### create boolean_array\n",
    "boolean_array=a<0\n",
    "a[boolean_array]"
   ]
  },
  {
   "cell_type": "markdown",
   "id": "c709f14c",
   "metadata": {},
   "source": [
    "### Slicing Vs advance indexing"
   ]
  },
  {
   "cell_type": "markdown",
   "id": "3cf444db",
   "metadata": {},
   "source": [
    "In case of list, slice operator will create a separate copy of list.any changes in one copy ,would noty affect second one.\n",
    "\n",
    "a1=[10,20,30]\n",
    "a2=a1[:]\n",
    "print(id(a1),id(a2))  # different ids it will through 3092717624000 3092717438528.\n",
    "\n",
    "\n",
    "However, in numpy slicing, a new copy would not be created and just we are getting view of the existing nd array. If we perform any changes in original array, those changes will be reflected in slicing copy.\n",
    "\n",
    "a1=np.array([10,20,30,40,60])\n",
    "a2=a1[:4]\n",
    "print(a1,a2) \n",
    "a1[0]=777\n",
    "print(a1,a2) \n",
    "\n",
    "However in Advance indexing in NumPy, a new copy will be craeted,any changes in one copy ,would not affect second one\n",
    "\n",
    "a1=np.array([10,20,30,40,60])\n",
    "a2=a1[[0,2,3]]\n",
    "print(a1,a2) \n",
    "a1[0]=777\n",
    "print(a1,a2) \n",
    "\n",
    "\n"
   ]
  },
  {
   "cell_type": "markdown",
   "id": "e529077a",
   "metadata": {},
   "source": [
    "# Arithmatic operations on nd array"
   ]
  },
  {
   "cell_type": "markdown",
   "id": "9fbb21dc",
   "metadata": {},
   "source": [
    "+,-,*,/(it always return float),//(floor devision, it may return integer or float),%(remainder operator), ** exponential operator/power operator.\n",
    "\n",
    "All above python's arithmetic mentioned operators are applicable on numpy array.\n",
    "\n",
    "--------------Arithmetic operator on numpy array with scalar------------\n",
    "scalar means: constant numeric value.\n",
    "All arithmetic operator are applicable for numpy arrays with scalar.\n",
    "\n",
    "eg: 1D array\n",
    "\n",
    "a1=np.array([10,20,30,40,60])\n",
    "print(a1**2)\n",
    "print(a1/2)\n",
    "print(a1*2)\n",
    "print(a1//2)\n",
    "\n",
    "applicable on all dimensions, 2D,3D.\n",
    "NOTE*** : in python, divide by zero not possible. If we are trying to perform then we will get zeroDivionError.\n",
    "\n",
    "In numpy, 0/0-->nan ans 10/0-->inf (infinity) you will not get devidebyzero error.anything/np.inf-->0\n",
    "\n",
    "a1=np.array([0,20,30,40,60])\n",
    "print(a1**2)\n",
    "print(a1/2)\n",
    "print(a1*2)\n",
    "print(a1/0)\n",
    "print(a1/np.inf)\n",
    "\n",
    "--------------Arithmetic operator on numpy array with Array( Arrays with arrays)------------\n",
    "here: dimension, shape, size should be same of both the numpy arrays.\n",
    "\n",
    "a1=np.array([20,20,30,40,60,20])\n",
    "b1=np.array([10,100,30,470,960])\n",
    "print(a1+b1)\n",
    "print(b1/a1)\n",
    "\n",
    "\n",
    "---------broadcasting for different shapes---------\n",
    "ValueError: operands could not be broadcast together with shapes (5,) (6,) \n",
    "\n",
    "####note: for every arithmetic function, numpy library defines equivalent functions. we can use these functions also.\n",
    "1. a+b --->  np.add(a,b)\n",
    "2. a-b --->  np.subtract(a,b)\n",
    "3. a*b --->  np.multiply(a,b)\n",
    "4. a/b --->  np.divide(a,b)\n",
    "5. a//b --->  np.floor_divide(a,b)\n",
    "6. a%b --->  np.mod(a,b)\n",
    "7. a**b --->  np.power(a,b)\n",
    "\n",
    "\n"
   ]
  },
  {
   "cell_type": "markdown",
   "id": "6bdebbda",
   "metadata": {},
   "source": [
    "# Broadcasting"
   ]
  },
  {
   "cell_type": "markdown",
   "id": "dbba1e63",
   "metadata": {},
   "source": [
    "The term broadcasting describes how NumPy treats arrays with different shapes during arithmetic operations.\n",
    "\n",
    "NumPy’s broadcasting rule relaxes this constraint when the arrays’ shapes meet certain constraints.\n",
    "\n",
    "When operating on two arrays, NumPy compares their shapes element-wise. It starts with the trailing (i.e. rightmost) dimensions and works its way left. Two dimensions are compatible when\n",
    "\n",
    "1. they are equal, or\n",
    "\n",
    "2. one of them is 1\n",
    "\n",
    "If these conditions are not met, a ValueError: operands could not be broadcast together exception is thrown, indicating that the arrays have incompatible shapes\n",
    "\n",
    "When the trailing dimensions of the arrays are unequal, broadcasting fails because it is impossible to align the values in the rows of the 1st array with the elements of the 2nd arrays for element-by-element addition.\n",
    "\n",
    "a1=np.array([[20,20,30,40,20],[10,100,30,470,960]])\n",
    "b1=np.array([10,100,30,470,960,70])    # trail mismatch\n",
    "\n",
    "print(np.add(a1,b1))\n",
    "print(a1)\n",
    "\n",
    "example:\n",
    "a = np.array([0.0, 10.0, 20.0, 30.0])\n",
    "b = np.array([1.0, 2.0, 3.0])\n",
    "print(a.shape,b.shape)\n",
    "print(a[:,np.newaxis]+b)\n",
    "\n",
    "\n",
    "\n",
    "Here the newaxis index operator inserts a new axis into a, making it a two-dimensional 4x1 array. Combining the 4x1 array with b, which has shape (3,), yields a 4x3 array."
   ]
  },
  {
   "cell_type": "code",
   "execution_count": 89,
   "id": "1eb627c2",
   "metadata": {},
   "outputs": [
    {
     "name": "stdout",
     "output_type": "stream",
     "text": [
      "(4,) (3,)\n",
      "[[ 1.  2.  3.]\n",
      " [11. 12. 13.]\n",
      " [21. 22. 23.]\n",
      " [31. 32. 33.]]\n"
     ]
    }
   ],
   "source": [
    "a = np.array([0.0, 10.0, 20.0, 30.0])\n",
    "b = np.array([1.0, 2.0, 3.0])\n",
    "print(a.shape,b.shape)\n",
    "print(a[:,np.newaxis]+b)"
   ]
  },
  {
   "cell_type": "code",
   "execution_count": null,
   "id": "4ab54a20",
   "metadata": {},
   "outputs": [],
   "source": []
  }
 ],
 "metadata": {
  "kernelspec": {
   "display_name": "Python 3 (ipykernel)",
   "language": "python",
   "name": "python3"
  },
  "language_info": {
   "codemirror_mode": {
    "name": "ipython",
    "version": 3
   },
   "file_extension": ".py",
   "mimetype": "text/x-python",
   "name": "python",
   "nbconvert_exporter": "python",
   "pygments_lexer": "ipython3",
   "version": "3.10.4"
  }
 },
 "nbformat": 4,
 "nbformat_minor": 5
}
